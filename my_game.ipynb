{
 "cells": [
  {
   "cell_type": "markdown",
   "metadata": {},
   "source": [
    "## The Cursed Play"
   ]
  },
  {
   "cell_type": "markdown",
   "metadata": {},
   "source": [
    "#### Import Text Adventure"
   ]
  },
  {
   "cell_type": "code",
   "execution_count": 31,
   "metadata": {},
   "outputs": [],
   "source": [
    "from text_adventure_games import (\n",
    "    games, parsing, actions, things, blocks, viz\n",
    ")"
   ]
  },
  {
   "cell_type": "markdown",
   "metadata": {},
   "source": [
    "### Locations"
   ]
  },
  {
   "cell_type": "code",
   "execution_count": 32,
   "metadata": {},
   "outputs": [],
   "source": [
    "old_theater = things.Location(\n",
    "    \"The Old Theater\",\n",
    "    \"You are standing in an old theater. The play is about to start.\"\n",
    ")\n",
    "playwrights_home = things.Location(\n",
    "    \"Playwright's Home\",\n",
    "    \"You are standing in the home of a famous playwright.\"\n",
    ")\n",
    "bookstore = things.Location(\n",
    "    \"Ancient Bookstore\",\n",
    "    \"You are standing in an ancient bookstore. The books are dusty and old.\"\n",
    ")\n",
    "    \n",
    "death = things.Location(\n",
    "    \"The play was cursed.\",\n",
    "    \"You are dead. GAME OVER.\"\n",
    ")\n",
    "death.set_property(\"game_over\", True)\n",
    "\n",
    "\n",
    "# Map of Locations\n",
    "old_theater.add_connection(\"north\", playwrights_home)\n",
    "playwrights_home.add_connection(\"east\", bookstore)"
   ]
  },
  {
   "cell_type": "markdown",
   "metadata": {},
   "source": [
    "### Game Map"
   ]
  },
  {
   "cell_type": "code",
   "execution_count": 33,
   "metadata": {},
   "outputs": [],
   "source": [
    "tempgame = games.Game(old_theater, things.Character(name=\"Temp Player\", description=\"\", persona=\"\"))\n",
    "\n",
    "from text_adventure_games.viz import Visualizer\n",
    "viz = Visualizer(tempgame)\n",
    "graph = viz.visualize()\n",
    "graph"
   ]
  },
  {
   "cell_type": "markdown",
   "metadata": {},
   "source": [
    "## Items"
   ]
  },
  {
   "cell_type": "markdown",
   "metadata": {},
   "source": [
    "### Gettable Items"
   ]
  },
  {
   "cell_type": "code",
   "execution_count": 34,
   "metadata": {},
   "outputs": [],
   "source": [
    "# Cursed Script: At the Old Theater, perhaps hidden or guarded by a theatrical gimmick.\n",
    "# Mysterious Letter: Found in a secret compartment or puzzle box at the Playwright's Home.\n",
    "# Ancient Book on Curses: In a puzzle-locked section of the Bookstore, requiring clever thinking to access.\n",
    "\n",
    "cursed_script = things.Item(\n",
    "    \"script\",\n",
    "    \"a cursed script\",\n",
    "    \"A CURSED SCRIPT THAT ONCE PLAYED EVERYONE WILL DIE.\",\n",
    ")\n",
    "old_theater.add_item(cursed_script)\n",
    "\n",
    "book_on_curses = things.Item(\n",
    "    \"book on curses\",\n",
    "    \"a book that contains knowledge to solve any curses\",\n",
    "    \"A BOOK THAT CAN SAVE LIVES FROM CURSES.\",\n",
    ")\n",
    "\n",
    "letter = things.Item(\n",
    "    \"letter\",\n",
    "    \"a mysterious letter\",\n",
    "    \"A MYSTERIOUS LETTER THAT CONTAINS INFORMATION ABOUT A BOOK OF CURSE.\",\n",
    ")"
   ]
  },
  {
   "cell_type": "markdown",
   "metadata": {},
   "source": [
    "### Scenary Items"
   ]
  },
  {
   "cell_type": "code",
   "execution_count": 35,
   "metadata": {},
   "outputs": [],
   "source": [
    "# A bookshelf in bookstore\n",
    "bookshelf = things.Item(\n",
    "    \"bookshelf\",\n",
    "    \"a bookshelf\",\n",
    "    \"THE BOOKSHELF CONTAINS MANY BOOKS.\",\n",
    ")\n",
    "bookshelf.set_property(\"gettable\", False)\n",
    "bookshelf.add_command_hint(\"browse books\")\n",
    "bookstore.add_item(bookshelf)\n",
    "\n",
    "# A stage in old theater\n",
    "stage = things.Item(\n",
    "    \"stage\",\n",
    "    \"a stage\",\n",
    "    \"THE STAGE IS SET FOR A PLAY.\",\n",
    ")\n",
    "stage.set_property(\"gettable\", False)\n",
    "stage.add_command_hint(\"set the stage for the play\")\n",
    "old_theater.add_item(stage)"
   ]
  },
  {
   "cell_type": "markdown",
   "metadata": {},
   "source": [
    "## Characters"
   ]
  },
  {
   "cell_type": "markdown",
   "metadata": {},
   "source": [
    "### Player"
   ]
  },
  {
   "cell_type": "code",
   "execution_count": 36,
   "metadata": {},
   "outputs": [],
   "source": [
    "# Player\n",
    "player = things.Character(\n",
    "    name=\"The detective\",\n",
    "    description=\"You are a seasoned detective with a keen eye for details.\",\n",
    "    persona=\"I solve mysteries.\",\n",
    ")"
   ]
  },
  {
   "cell_type": "markdown",
   "metadata": {},
   "source": [
    "### Non-player Character"
   ]
  },
  {
   "cell_type": "code",
   "execution_count": 37,
   "metadata": {},
   "outputs": [],
   "source": [
    "# The playwright at his house\n",
    "playwright = things.Character(\n",
    "    name=\"playwright\",\n",
    "    description=\"A secretive playwright\",\n",
    "    persona=\"Talk to me. But it doesn't mean I will tell you.\"\n",
    ")\n",
    "playwright.set_property(\"trust\", False)\n",
    "playwright.set_property(\"character_type\", \"human\")\n",
    "playwrights_home.add_character(playwright)\n",
    "\n",
    "# The playwright has a mysterious letter\n",
    "playwright.add_to_inventory(letter)"
   ]
  },
  {
   "cell_type": "markdown",
   "metadata": {},
   "source": [
    "## Actions"
   ]
  },
  {
   "cell_type": "code",
   "execution_count": 38,
   "metadata": {},
   "outputs": [],
   "source": [
    "class Give_Script (actions.Action):\n",
    "    ACTION_NAME = \"give\"\n",
    "    ACTION_DESCRIPTION = \"Give something to someone\"\n",
    "    ACTION_ALIASES = [\"hand\", \"show\"]\n",
    "\n",
    "    def __init__(self, game, command: str):\n",
    "        super().__init__(game)\n",
    "        give_words = [\"give\", \"hand\", \"show\"]\n",
    "        command_before_word = \"\"\n",
    "        command_after_word = command\n",
    "        for word in give_words:\n",
    "            if word in command:\n",
    "                parts = command.split(word, 1)\n",
    "                command_before_word = parts[0]\n",
    "                command_after_word = parts[1]\n",
    "                break\n",
    "        self.giver = self.parser.get_character(command_before_word)\n",
    "        self.recipient = self.parser.get_character(command_after_word)\n",
    "        self.script: things.Item = self.parser.match_item(\n",
    "                \"script\", self.parser.get_items_in_scope(self.giver)\n",
    "            )\n",
    "\n",
    "    def check_preconditions(self) -> bool:\n",
    "        \"\"\"\n",
    "        Preconditions:\n",
    "        * The script must be in the giver's inventory\n",
    "        * The character must be at the same location as the recipient\n",
    "        \"\"\"\n",
    "        if not self.was_matched(self.script, \"I don't see it.\"):\n",
    "            return False\n",
    "        if not self.giver.is_in_inventory(self.script):\n",
    "            self.parser.fail(\"You don't have it.\")\n",
    "            return False\n",
    "        if not self.giver.location.here(self.recipient):\n",
    "            self.parser.fail(\"They are not here.\")\n",
    "            return False\n",
    "        return True\n",
    "\n",
    "    def apply_effects(self):\n",
    "        \"\"\"\n",
    "        Drop removes an item from character's inventory and adds it to the\n",
    "        current location. (Assumes that the preconditions are met.)\n",
    "        Giving the playwright the script gains trust.\n",
    "        \"\"\"\n",
    "        self.giver.remove_from_inventory(self.script)\n",
    "        self.recipient.add_to_inventory(self.script)\n",
    "        self.recipient.set_property(\"trust\", True)\n",
    "        description = \"The detective gave the script to the playwright. The playwright is now more trusting.\"\n",
    "        self.parser.ok(description)\n"
   ]
  },
  {
   "cell_type": "code",
   "execution_count": 39,
   "metadata": {},
   "outputs": [],
   "source": [
    "class Talk (actions.Action):\n",
    "    ACTION_NAME = \"talk\"\n",
    "    ACTION_DESCRIPTION = \"Talk to someone\"\n",
    "    ACTION_ALIASES = [\"speak\"]\n",
    "\n",
    "    def __init__(self, game, command: str):\n",
    "        super().__init__(game)\n",
    "        talk_words = [\"talk\", \"speak\"]\n",
    "        command_before_word = \"\"\n",
    "        command_after_word = command\n",
    "        for word in talk_words:\n",
    "            if word in command:\n",
    "                parts = command.split(word, 1)\n",
    "                command_before_word = parts[0]\n",
    "                command_after_word = parts[1]\n",
    "                break\n",
    "        self.talker = self.parser.get_character(command_before_word)\n",
    "        self.recipient = self.parser.get_character(command_after_word)\n",
    "        \n",
    "    def check_preconditions(self) -> bool:\n",
    "        \"\"\"\n",
    "        Preconditions:\n",
    "        * The recipient must trust the talker\n",
    "        * The character must be at the same location as the recipient\n",
    "        \"\"\"\n",
    "        if not self.recipient.get_property(\"trust\"):\n",
    "            self.parser.fail(\"The playwright doesn't trust you enough to talk to you.\")\n",
    "            return False\n",
    "        if not self.talker.location.here(self.recipient):\n",
    "            return False\n",
    "        return True\n",
    "\n",
    "    def apply_effects(self):\n",
    "        \"\"\"\n",
    "        Removes inventory from the recipient and add it to the location.\n",
    "        \"\"\"\n",
    "        letter = self.recipient.inventory['letter']\n",
    "        self.recipient.remove_from_inventory(letter)\n",
    "        self.recipient.location.add_item(letter)\n",
    "        description = \"The playwright takes out a letter and shows it to the detective.\"\n",
    "        self.parser.ok(description)\n"
   ]
  },
  {
   "cell_type": "code",
   "execution_count": 40,
   "metadata": {},
   "outputs": [],
   "source": [
    "class Browse_Books (actions.Action):\n",
    "    ACTION_NAME = \"browse books\"\n",
    "    ACTION_DESCRIPTION = \"Browse books on the bookshelf.\"\n",
    "    ACTION_ALIASES = []\n",
    "\n",
    "    def __init__(self, game, command):\n",
    "        super().__init__(game)\n",
    "        self.character = self.parser.get_character(command)\n",
    "        self.bookshelf = self.parser.match_item(\n",
    "            \"bookshelf\", self.parser.get_items_in_scope(self.character)\n",
    "        )\n",
    "        self.letter = self.parser.match_item(\n",
    "            \"letter\", self.parser.get_items_in_scope(self.character)\n",
    "        )\n",
    "        \n",
    "    def check_preconditions(self) -> bool:\n",
    "        \"\"\"\n",
    "        Preconditions:\n",
    "        * The character must be at the same location as the bookshelf\n",
    "        * The character must have the mysterious letter in their inventory to find a useful book\n",
    "        \"\"\"\n",
    "        if not self.bookshelf.location.here(self.character):\n",
    "            return False\n",
    "        if not self.letter:\n",
    "            description = \"You could not find any useful book.\"\n",
    "            self.parser.fail(description)\n",
    "            return False\n",
    "        return True\n",
    "\n",
    "    def apply_effects(self):\n",
    "        \"\"\"\n",
    "        The character finds the Book on Curses.\n",
    "        \"\"\"\n",
    "        self.bookshelf.location.add_item(book_on_curses)\n",
    "        description = \"You found a book on curses on the shelf.\"\n",
    "        self.parser.ok(description)"
   ]
  },
  {
   "cell_type": "code",
   "execution_count": 41,
   "metadata": {},
   "outputs": [],
   "source": [
    "class Read_Book (actions.Action):\n",
    "    ACTION_NAME = \"read book on curses\"\n",
    "    ACTION_DESCRIPTION = \"read book on curses to learn the knowledge.\"\n",
    "    ACTION_ALIASES = [\"read book on curses\", \"learn\"]\n",
    "\n",
    "    def __init__(self, game, command):\n",
    "        super().__init__(game)\n",
    "        self.character = self.parser.get_character(command)\n",
    "        self.book = self.parser.match_item(\n",
    "            \"book on curses\", self.parser.get_items_in_scope(self.character)\n",
    "        )\n",
    "        \n",
    "    def check_preconditions(self) -> bool:\n",
    "        \"\"\"\n",
    "        Preconditions:\n",
    "        * The book must exist\n",
    "        * The character must be at the same location as the book\n",
    "        \"\"\"\n",
    "        if not self.book:\n",
    "            description = \"You could not find any book.\"\n",
    "            self.parser.fail(description)\n",
    "            return False\n",
    "        return True\n",
    "\n",
    "    def apply_effects(self):\n",
    "        \"\"\"\n",
    "        The character learns the counter curse\n",
    "        \"\"\"\n",
    "        self.character.set_property(\"learned_counter_curse\", True)\n",
    "        description = \"{name} learned the counter curse.\".format(name=self.character.name)\n",
    "        self.parser.ok(description)"
   ]
  },
  {
   "cell_type": "code",
   "execution_count": 42,
   "metadata": {},
   "outputs": [],
   "source": [
    "class Set_Stage (actions.Action):\n",
    "    ACTION_NAME = \"Set the stage\"\n",
    "    ACTION_DESCRIPTION = \"Set the stage for the play\"\n",
    "    ACTION_ALIASES = [\"set stage\"]\n",
    "\n",
    "    def __init__(self, game, command):\n",
    "        super().__init__(game)\n",
    "        self.character = self.parser.get_character(command)\n",
    "        self.stage = self.parser.match_item(\n",
    "            \"stage\", self.parser.get_items_in_scope(self.character)\n",
    "        )\n",
    "        \n",
    "    def check_preconditions(self) -> bool:\n",
    "        \"\"\"\n",
    "        Preconditions:\n",
    "        * The character must be at the same location as the stage\n",
    "        \"\"\"\n",
    "        if not self.was_matched(self.stage, \"There's no stage here.\"):\n",
    "            return False\n",
    "        if not self.stage.location.here(self.character):\n",
    "            return False\n",
    "        return True\n",
    "\n",
    "    def apply_effects(self):\n",
    "        \"\"\"\n",
    "        * If the character has learned the counter curse, the curse will be solved.\n",
    "        * If the character has not learned the counter curse, the character dies.\n",
    "        \"\"\"\n",
    "        if self.character.get_property(\"learned_counter_curse\"):\n",
    "            self.character.set_property(\"solved_curse\", True)\n",
    "            description = \"The play is cursed. The detective learned the counter curse and people all survived.\"\n",
    "            self.parser.ok(description)\n",
    "        else:\n",
    "            self.character.set_property(\"is_dead\", True)\n",
    "            description = \"The play is cursed. The detective died.\"\n",
    "            self.parser.ok(description)"
   ]
  },
  {
   "cell_type": "markdown",
   "metadata": {},
   "source": [
    "## Play The Cursed Play"
   ]
  },
  {
   "cell_type": "code",
   "execution_count": 43,
   "metadata": {},
   "outputs": [],
   "source": [
    "class CursedPlay(games.Game):\n",
    "    def __init__(\n",
    "        self, start_at: things.Location, player: things.Character, characters=None,\n",
    "        custom_actions=None\n",
    "    ):\n",
    "        super().__init__(start_at, player, characters=characters, custom_actions=custom_actions)\n",
    "\n",
    "    def is_won(self) -> bool:\n",
    "        \"\"\" \n",
    "        Checks whether the game has been won. For Cursed Play, the game is won\n",
    "        once the stage is set when any character has learned the counter curse.\n",
    "        \"\"\"\n",
    "        for name, character in self.characters.items():\n",
    "            if character.get_property(\"solved_curse\"):\n",
    "                msg = \"{name} has solved the curse successfully! The play is on. You won.\"\n",
    "                self.parser.ok(msg.format(name=character.name.title()))\n",
    "                return True\n",
    "        return False"
   ]
  },
  {
   "cell_type": "code",
   "execution_count": 44,
   "metadata": {},
   "outputs": [],
   "source": [
    "characters = [playwright]\n",
    "custom_actions = [Browse_Books, Read_Book, Talk, Set_Stage, Give_Script]\n",
    "\n",
    "# The Game\n",
    "game = CursedPlay(old_theater, player, characters=characters, custom_actions=custom_actions)"
   ]
  },
  {
   "cell_type": "code",
   "execution_count": 45,
   "metadata": {},
   "outputs": [
    {
     "name": "stdout",
     "output_type": "stream",
     "text": [
      "You are standing in an old theater. The play is about to start.\n",
      "Exits:\n",
      "North to Playwright's Home\n",
      "\n",
      "You see:\n",
      " * a cursed script\n",
      " * a stage\n",
      "        set the stage for the play\n",
      "\n",
      "\n",
      "The detective got the script.\n",
      "You are standing in the home of a famous playwright.\n",
      "Exits:\n",
      "South to The Old Theater\n",
      "East to Ancient Bookstore\n",
      "\n",
      "\n",
      "Characters:\n",
      " * A secretive playwright\n",
      "\n",
      "The detective gave the script to the playwright. The playwright is now more\n",
      "trusting.\n",
      "The playwright takes out a letter and shows it to the detective.\n",
      "The detective got the letter.\n",
      "You are standing in an ancient bookstore. The books are dusty and old.\n",
      "Exits:\n",
      "West to Playwright's Home\n",
      "\n",
      "You see:\n",
      " * a bookshelf\n",
      "        browse books\n",
      "\n",
      "\n",
      "You found a book on curses on the shelf.\n",
      "The detective got the book on curses.\n",
      "The detective learned the counter curse.\n",
      "You are standing in the home of a famous playwright.\n",
      "Exits:\n",
      "South to The Old Theater\n",
      "East to Ancient Bookstore\n",
      "\n",
      "\n",
      "Characters:\n",
      " * A secretive playwright\n",
      "\n",
      "You are standing in an old theater. The play is about to start.\n",
      "Exits:\n",
      "North to Playwright's Home\n",
      "\n",
      "You see:\n",
      " * a stage\n",
      "        set the stage for the play\n",
      "\n",
      "\n",
      "The play is cursed. The detective learned the counter curse and people all\n",
      "survived.\n",
      "The Detective has solved the curse successfully! The play is on. You won.\n"
     ]
    }
   ],
   "source": [
    "game.game_loop()"
   ]
  }
 ],
 "metadata": {
  "kernelspec": {
   "display_name": "venv",
   "language": "python",
   "name": "python3"
  },
  "language_info": {
   "codemirror_mode": {
    "name": "ipython",
    "version": 3
   },
   "file_extension": ".py",
   "mimetype": "text/x-python",
   "name": "python",
   "nbconvert_exporter": "python",
   "pygments_lexer": "ipython3",
   "version": "3.9.12"
  }
 },
 "nbformat": 4,
 "nbformat_minor": 2
}
